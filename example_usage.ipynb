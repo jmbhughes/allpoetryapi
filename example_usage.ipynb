{
 "cells": [
  {
   "cell_type": "code",
   "execution_count": 1,
   "metadata": {},
   "outputs": [],
   "source": [
    "import allpoetryapi\n",
    "import random\n",
    "import matplotlib.pyplot as plt\n",
    "%matplotlib notebook"
   ]
  },
  {
   "cell_type": "markdown",
   "metadata": {},
   "source": [
    "Add your [allpoetry.com](allpoetry.com) credentials here:"
   ]
  },
  {
   "cell_type": "code",
   "execution_count": 2,
   "metadata": {},
   "outputs": [],
   "source": [
    "username, password = \"YOURUSERNAME\", \"YOURPASSWORD\"\n",
    "api = allpoetryapi.AllPoetry(username, password)"
   ]
  },
  {
   "cell_type": "markdown",
   "metadata": {},
   "source": [
    "# Fetch a specific poem "
   ]
  },
  {
   "cell_type": "markdown",
   "metadata": {},
   "source": [
    "We can get a specific poem if we know it's URL. This will get the poem text and some metadata."
   ]
  },
  {
   "cell_type": "code",
   "execution_count": 3,
   "metadata": {},
   "outputs": [],
   "source": [
    "url = \"https://allpoetry.com/Poem/13570755-two-forms-of-water-by-Millie-Hughes\"\n",
    "poem = api.get_poem_by_url(url, fetch_comments=True)"
   ]
  },
  {
   "cell_type": "markdown",
   "metadata": {},
   "source": [
    "The poem itself is saved:"
   ]
  },
  {
   "cell_type": "code",
   "execution_count": 4,
   "metadata": {},
   "outputs": [
    {
     "name": "stdout",
     "output_type": "stream",
     "text": [
      "two forms of water by Millie_Hughes\n",
      "----------------------------------------\n",
      "curtains of raindrops\n",
      "coming down in rhythms\n",
      "water washing the waste away\n",
      "making my scene new\n",
      "\n",
      "coursing down the windowpane\n",
      "the same surface I rest my cheek upon\n",
      "sluicing a way into my jumbled brain\n",
      "washing me with the healing waters\n",
      "\n",
      "of Autumn rain\n",
      "warm at its onset\n",
      "then cooler\n",
      "till the trees\n",
      "\n",
      "fold their bare arms\n",
      "around their trunks\n",
      "searching for warmth\n",
      "dreading Winter's reign\n",
      "\n",
      "when rain is quickly tranformed\n",
      "into ice pellets\n",
      "lashing out\n",
      "clearcoating my world instantly\n"
     ]
    }
   ],
   "source": [
    "print(poem)"
   ]
  },
  {
   "cell_type": "markdown",
   "metadata": {},
   "source": [
    "The metadata includes many things. Such as the comments:"
   ]
  },
  {
   "cell_type": "code",
   "execution_count": 5,
   "metadata": {},
   "outputs": [
    {
     "data": {
      "text/plain": [
       "'This was really interesting to read, Millie. I like the way you described the changing, and how you felt about it while watching. --Hope EB'"
      ]
     },
     "execution_count": 5,
     "metadata": {},
     "output_type": "execute_result"
    }
   ],
   "source": [
    "poem.comments[0].text + \" --\" + poem.comments[0].user"
   ]
  },
  {
   "cell_type": "markdown",
   "metadata": {},
   "source": [
    "We can summarize how many comments and comment threads there are:"
   ]
  },
  {
   "cell_type": "code",
   "execution_count": 6,
   "metadata": {},
   "outputs": [
    {
     "data": {
      "text/plain": [
       "(44, 23)"
      ]
     },
     "execution_count": 6,
     "metadata": {},
     "output_type": "execute_result"
    }
   ],
   "source": [
    "poem.num_comments(), poem.num_comment_threads()"
   ]
  },
  {
   "cell_type": "markdown",
   "metadata": {},
   "source": [
    "The metatdata includes how many times the poem was liked and viewed:"
   ]
  },
  {
   "cell_type": "code",
   "execution_count": 7,
   "metadata": {},
   "outputs": [
    {
     "data": {
      "text/plain": [
       "(30, 1100)"
      ]
     },
     "execution_count": 7,
     "metadata": {},
     "output_type": "execute_result"
    }
   ],
   "source": [
    "poem.count_like, poem.count_view"
   ]
  },
  {
   "cell_type": "markdown",
   "metadata": {},
   "source": [
    "# Fetch a list of poems"
   ]
  },
  {
   "cell_type": "markdown",
   "metadata": {},
   "source": [
    "First, we fetch the list of poems written by the user. "
   ]
  },
  {
   "cell_type": "code",
   "execution_count": 8,
   "metadata": {},
   "outputs": [],
   "source": [
    "poem_urls = api.get_user_poem_links(\"Millie_Hughes\", at_least=100)"
   ]
  },
  {
   "cell_type": "code",
   "execution_count": 9,
   "metadata": {},
   "outputs": [
    {
     "data": {
      "text/plain": [
       "{'4 a.m.': 'https://allpoetry.com/poem/14012529-4-a.m.-by-Millie-Hughes',\n",
       " \"Dementia's Doom\": 'https://allpoetry.com/poem/14024323-Dementias-Doom-by-Millie-Hughes',\n",
       " \"God's Man\": 'https://allpoetry.com/poem/13968259-Gods-Man-by-Millie-Hughes',\n",
       " 'Life': 'https://allpoetry.com/poem/14020433-Life-by-Millie-Hughes',\n",
       " 'My Fair Friend': 'https://allpoetry.com/poem/13979406-My-Fair-Friend-by-Millie-Hughes',\n",
       " \"Nature's Niceties\": 'https://allpoetry.com/poem/14017016-Natures-Niceties-by-Millie-Hughes',\n",
       " 'Our Father': 'https://allpoetry.com/poem/14029385-Our-Father-by-Millie-Hughes',\n",
       " 'Our Lady': 'https://allpoetry.com/poem/13971584-Our-Lady-by-Millie-Hughes',\n",
       " 'The Aha Moment': 'https://allpoetry.com/poem/14009797-The-Aha-Moment-by-Millie-Hughes',\n",
       " 'The Answer': 'https://allpoetry.com/poem/13986343-The-Answer-by-Millie-Hughes',\n",
       " 'The Call': 'https://allpoetry.com/poem/14022229-The-Call-by-Millie-Hughes',\n",
       " 'The King is Coming': 'https://allpoetry.com/poem/14023686-The-King-is-Coming-by-Millie-Hughes',\n",
       " '[ painted   ]': 'https://allpoetry.com/poem/14008945--painted----by-Millie-Hughes',\n",
       " 'abandoned': 'https://allpoetry.com/poem/14002092-abandoned-by-Millie-Hughes',\n",
       " 'aerial aspirations': 'https://allpoetry.com/poem/13999908-aerial-aspirations-by-Millie-Hughes',\n",
       " 'affirmation': 'https://allpoetry.com/poem/14043549-affirmation-by-Millie-Hughes',\n",
       " 'all things bright and beautiful': 'https://allpoetry.com/poem/13979607-all-things-bright-and-beautiful-by-Millie-Hughes',\n",
       " 'arms outstretched in mercy': 'https://allpoetry.com/poem/14037204-arms-outstretched-in-mercy-by-Millie-Hughes',\n",
       " 'battered': 'https://allpoetry.com/poem/14015523-battered-by-Millie-Hughes',\n",
       " 'battle-ready': 'https://allpoetry.com/poem/14021142-battle-ready-by-Millie-Hughes',\n",
       " 'before I sleep': 'https://allpoetry.com/poem/14022141-before-I-sleep-by-Millie-Hughes',\n",
       " 'birds of a feather': 'https://allpoetry.com/poem/13993814-birds-of-a-feather-by-Millie-Hughes',\n",
       " 'busy wings': 'https://allpoetry.com/poem/13967117-busy-wings-by-Millie-Hughes',\n",
       " 'butterfly bystander': 'https://allpoetry.com/poem/13999925-butterfly-bystander-by-Millie-Hughes',\n",
       " \"caregivers who don't care\": 'https://allpoetry.com/poem/14037647-caregivers-who-dont-care-by-Millie-Hughes',\n",
       " 'cat economics': 'https://allpoetry.com/poem/14034826-cat-economics-by-Millie-Hughes',\n",
       " 'change the colors of my world': 'https://allpoetry.com/poem/13971471-change-the-colors-of-my-world-by-Millie-Hughes',\n",
       " 'changing course': 'https://allpoetry.com/poem/14026959-changing-course-by-Millie-Hughes',\n",
       " \"child's play\": 'https://allpoetry.com/poem/14015740-childs-play-by-Millie-Hughes',\n",
       " 'children:  tiny treasures': 'https://allpoetry.com/poem/14022214-children--tiny-treasures-by-Millie-Hughes',\n",
       " 'constrained': 'https://allpoetry.com/poem/14007468-constrained-by-Millie-Hughes',\n",
       " 'crystal clear': 'https://allpoetry.com/poem/14034798-crystal-clear-by-Millie-Hughes',\n",
       " 'daisy': 'https://allpoetry.com/poem/14027119-daisy-by-Millie-Hughes',\n",
       " 'deserving': 'https://allpoetry.com/poem/14007997-deserving-by-Millie-Hughes',\n",
       " 'dipped in the fount of faith': 'https://allpoetry.com/poem/14040458-dipped-in-the-fount-of-faith-by-Millie-Hughes',\n",
       " 'dreamland': 'https://allpoetry.com/poem/14021112-dreamland-by-Millie-Hughes',\n",
       " 'dress up time': 'https://allpoetry.com/poem/14008277-dress-up-time-by-Millie-Hughes',\n",
       " 'ear to ear smiles': 'https://allpoetry.com/poem/14006646-ear-to-ear-smiles-by-Millie-Hughes',\n",
       " 'fleeing': 'https://allpoetry.com/poem/13997432-fleeing-by-Millie-Hughes',\n",
       " \"freedom's refrain\": 'https://allpoetry.com/poem/14015341-freedoms-refrain-by-Millie-Hughes',\n",
       " 'gains and losses': 'https://allpoetry.com/poem/13997407-gains-and-losses-by-Millie-Hughes',\n",
       " 'helpless': 'https://allpoetry.com/poem/14022187-helpless-by-Millie-Hughes',\n",
       " 'hiding place': 'https://allpoetry.com/poem/14026877-hiding-place-by-Millie-Hughes',\n",
       " 'in my eyes': 'https://allpoetry.com/poem/13999222-in-my-eyes-by-Millie-Hughes',\n",
       " 'in the gentle hands of the Savior': 'https://allpoetry.com/poem/14028657-in-the-gentle-hands-of-the-Savior-by-Millie-Hughes',\n",
       " 'in your laboratory': 'https://allpoetry.com/poem/14008396-in-your-laboratory-by-Millie-Hughes',\n",
       " 'independence is a gift': 'https://allpoetry.com/poem/13979289-independence-is-a-gift-by-Millie-Hughes',\n",
       " 'innocence': 'https://allpoetry.com/poem/14012661-innocence-by-Millie-Hughes',\n",
       " \"it's 100 degrees outside\": 'https://allpoetry.com/poem/14023601-its-100-degrees-outside-by-Millie-Hughes',\n",
       " 'jokester': 'https://allpoetry.com/poem/14029355-jokester-by-Millie-Hughes',\n",
       " \"jumpin' jackrabbits\": 'https://allpoetry.com/poem/14018726-jumpin-jackrabbits-by-Millie-Hughes',\n",
       " 'just out of reach': 'https://allpoetry.com/poem/14000647-just-out-of-reach-by-Millie-Hughes',\n",
       " 'let them be children': 'https://allpoetry.com/poem/14005594-let-them-be-children-by-Millie-Hughes',\n",
       " 'light to clear your darkness': 'https://allpoetry.com/poem/14032111-light-to-clear-your-darkness-by-Millie-Hughes',\n",
       " 'mercy maintained': 'https://allpoetry.com/poem/13974844-mercy-maintained-by-Millie-Hughes',\n",
       " 'mirror images': 'https://allpoetry.com/poem/13986320-mirror-images-by-Millie-Hughes',\n",
       " 'moss meanderings': 'https://allpoetry.com/poem/13984017-moss-meanderings-by-Millie-Hughes',\n",
       " 'my favorite ': 'https://allpoetry.com/poem/14011392-my-favorite--by-Millie-Hughes',\n",
       " 'new beginnings': 'https://allpoetry.com/poem/14003180-new-beginnings-by-Millie-Hughes',\n",
       " 'no undoing': 'https://allpoetry.com/poem/14011381-no-undoing-by-Millie-Hughes',\n",
       " 'of completion': 'https://allpoetry.com/poem/13979585-of-completion-by-Millie-Hughes',\n",
       " 'of stars': 'https://allpoetry.com/poem/14020458-of-stars-by-Millie-Hughes',\n",
       " 'peaceful place': 'https://allpoetry.com/poem/14028471-peaceful-place-by-Millie-Hughes',\n",
       " 'plenty': 'https://allpoetry.com/poem/14012683-plenty-by-Millie-Hughes',\n",
       " 'preparations on the patio': 'https://allpoetry.com/poem/13968269-preparations-on-the-patio-by-Millie-Hughes',\n",
       " 'protected': 'https://allpoetry.com/poem/14002116-protected-by-Millie-Hughes',\n",
       " 'rafting the rapids': 'https://allpoetry.com/poem/13992545-rafting-the-rapids-by-Millie-Hughes',\n",
       " 'reliance': 'https://allpoetry.com/poem/13990223-reliance-by-Millie-Hughes',\n",
       " 'restoration': 'https://allpoetry.com/poem/13976655-restoration-by-Millie-Hughes',\n",
       " 'sacrifice of love': 'https://allpoetry.com/poem/14015476-sacrifice-of-love-by-Millie-Hughes',\n",
       " 'same words, different meaning': 'https://allpoetry.com/poem/14000657-same-words--different-meaning-by-Millie-Hughes',\n",
       " 'scavenger hunt': 'https://allpoetry.com/poem/13974813-scavenger-hunt-by-Millie-Hughes',\n",
       " 'signs of understanding': 'https://allpoetry.com/poem/14032265-signs-of-understanding-by-Millie-Hughes',\n",
       " 'so they can bloom again': 'https://allpoetry.com/poem/14003111-so-they-can-bloom-again-by-Millie-Hughes',\n",
       " 'sparrowsong': 'https://allpoetry.com/poem/14040434-sparrowsong-by-Millie-Hughes',\n",
       " 'strawberry fields': 'https://allpoetry.com/poem/13987989-strawberry-fields-by-Millie-Hughes',\n",
       " 'stronger': 'https://allpoetry.com/poem/13974084-stronger-by-Millie-Hughes',\n",
       " 'summer in the south': 'https://allpoetry.com/poem/13976733-summer-in-the-south-by-Millie-Hughes',\n",
       " 'summer sizzles': 'https://allpoetry.com/poem/13990944-summer-sizzles-by-Millie-Hughes',\n",
       " 'sunk': 'https://allpoetry.com/poem/13992580-sunk-by-Millie-Hughes',\n",
       " 'tantalizing tomes': 'https://allpoetry.com/poem/14022161-tantalizing-tomes-by-Millie-Hughes',\n",
       " 'tea party': 'https://allpoetry.com/poem/14003793-tea-party-by-Millie-Hughes',\n",
       " \"the monster called Alzheimer's\": 'https://allpoetry.com/poem/13976707-the-monster-called-Alzheimers-by-Millie-Hughes',\n",
       " \"the shepherd's care\": 'https://allpoetry.com/poem/13971123-the-shepherds-care-by-Millie-Hughes',\n",
       " 'torn': 'https://allpoetry.com/poem/14017138-torn-by-Millie-Hughes',\n",
       " 'tra-la-la': 'https://allpoetry.com/poem/14018749-tra-la-la-by-Millie-Hughes',\n",
       " 'troubadour': 'https://allpoetry.com/poem/13983021-troubadour-by-Millie-Hughes',\n",
       " 'trying to fly high': 'https://allpoetry.com/poem/13990807-trying-to-fly-high-by-Millie-Hughes',\n",
       " 'undecided on the destination': 'https://allpoetry.com/poem/14023557-undecided-on-the-destination-by-Millie-Hughes',\n",
       " 'universal': 'https://allpoetry.com/poem/13994109-universal-by-Millie-Hughes',\n",
       " 'walking toward a better day': 'https://allpoetry.com/poem/14022251-walking-toward-a-better-day-by-Millie-Hughes',\n",
       " \"when the ends won't meet\": 'https://allpoetry.com/poem/14010540-when-the-ends-wont-meet-by-Millie-Hughes',\n",
       " 'wind': 'https://allpoetry.com/poem/13979560-wind-by-Millie-Hughes',\n",
       " 'winter white': 'https://allpoetry.com/poem/14013875-winter-white-by-Millie-Hughes',\n",
       " 'wise watcher': 'https://allpoetry.com/poem/13999080-wise-watcher-by-Millie-Hughes',\n",
       " 'wishful wandering of my mind': 'https://allpoetry.com/poem/14040382-wishful-wandering-of-my-mind-by-Millie-Hughes',\n",
       " 'wondrous whims': 'https://allpoetry.com/poem/14023586-wondrous-whims-by-Millie-Hughes',\n",
       " 'wooing her': 'https://allpoetry.com/poem/14048270-wooing-her-by-Millie-Hughes',\n",
       " 'words': 'https://allpoetry.com/poem/14003946-words-by-Millie-Hughes',\n",
       " 'words of love': 'https://allpoetry.com/poem/13999567-words-of-love-by-Millie-Hughes'}"
      ]
     },
     "execution_count": 9,
     "metadata": {},
     "output_type": "execute_result"
    }
   ],
   "source": [
    "poem_urls"
   ]
  },
  {
   "cell_type": "markdown",
   "metadata": {},
   "source": [
    "Then, we can fetch the individual poems. We'll grab 10 at random from the list. "
   ]
  },
  {
   "cell_type": "code",
   "execution_count": 10,
   "metadata": {},
   "outputs": [],
   "source": [
    "selection = random.sample(list(poem_urls.keys()), 10)\n",
    "poems = [api.get_poem_by_url(poem_urls[title], fetch_comments=True) for title in selection]"
   ]
  },
  {
   "cell_type": "markdown",
   "metadata": {},
   "source": [
    "Then, we can look at information stored with the poems:"
   ]
  },
  {
   "cell_type": "code",
   "execution_count": 11,
   "metadata": {},
   "outputs": [
    {
     "name": "stdout",
     "output_type": "stream",
     "text": [
      "['misc'] 45\n",
      "['rhyme', 'misc'] 41\n",
      "['spiritual'] 141\n",
      "None 62\n",
      "['family'] 83\n",
      "['nature', 'humor'] 46\n",
      "['sad', 'pain'] 45\n",
      "['pain'] 50\n",
      "['spiritual'] 95\n",
      "['spiritual'] 64\n"
     ]
    }
   ],
   "source": [
    "for poem in poems:\n",
    "    print(poem.categories, len(poem))"
   ]
  },
  {
   "cell_type": "markdown",
   "metadata": {},
   "source": [
    "We can aggregate these results to understand what kinds of poems this author writes:"
   ]
  },
  {
   "cell_type": "code",
   "execution_count": 12,
   "metadata": {},
   "outputs": [],
   "source": [
    "category_counts = dict()\n",
    "for poem in poems:\n",
    "    if poem.categories is None:\n",
    "        poem.categories = ['none']\n",
    "    for category in poem.categories:\n",
    "        if category in category_counts:\n",
    "            category_counts[category] += 1\n",
    "        else:\n",
    "            category_counts[category] = 1"
   ]
  },
  {
   "cell_type": "code",
   "execution_count": 13,
   "metadata": {},
   "outputs": [
    {
     "data": {
      "text/plain": [
       "{'family': 1,\n",
       " 'humor': 1,\n",
       " 'misc': 2,\n",
       " 'nature': 1,\n",
       " 'none': 1,\n",
       " 'pain': 2,\n",
       " 'rhyme': 1,\n",
       " 'sad': 1,\n",
       " 'spiritual': 3}"
      ]
     },
     "execution_count": 13,
     "metadata": {},
     "output_type": "execute_result"
    }
   ],
   "source": [
    "category_counts"
   ]
  },
  {
   "cell_type": "markdown",
   "metadata": {},
   "source": [
    "Very spiritual!"
   ]
  }
 ],
 "metadata": {
  "kernelspec": {
   "display_name": "Python 3",
   "language": "python",
   "name": "python3"
  },
  "language_info": {
   "codemirror_mode": {
    "name": "ipython",
    "version": 3
   },
   "file_extension": ".py",
   "mimetype": "text/x-python",
   "name": "python",
   "nbconvert_exporter": "python",
   "pygments_lexer": "ipython3",
   "version": "3.5.2"
  }
 },
 "nbformat": 4,
 "nbformat_minor": 2
}
